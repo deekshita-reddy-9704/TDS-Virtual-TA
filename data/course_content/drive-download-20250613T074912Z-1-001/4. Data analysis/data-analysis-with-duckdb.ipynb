{
  "cells": [
    {
      "cell_type": "markdown",
      "metadata": {},
      "source": [
        "# DuckDB workshop\n",
        "\n",
        "[Parquet](https://parquet.apache.org/) is a faster, more compact, and better typed storage format than CSV, Excel, JSON, or SQLite. Prefer it for data storage.\n",
        "\n",
        "[DuckDB](https://duckdb.org/) is faster than databases and as portable as SQLite. Prefer it for local large data analysis."
      ]
    },
    {
      "cell_type": "code",
      "execution_count": 1,
      "metadata": {
        "colab": {
          "base_uri": "https://localhost:8080/"
        },
        "id": "IiaMbxP8VYE0",
        "outputId": "e82ed715-a017-4767-9573-f2c5b12ac828"
      },
      "outputs": [
        {
          "name": "stdout",
          "output_type": "stream",
          "text": [
            "Requirement already satisfied: duckdb in c:\\users\\anand\\.conda\\envs\\gramex39\\lib\\site-packages (0.9.1)\n",
            "Requirement already satisfied: pandas in c:\\users\\anand\\.conda\\envs\\gramex39\\lib\\site-packages (1.5.2)\n",
            "Requirement already satisfied: sqlalchemy in c:\\users\\anand\\.conda\\envs\\gramex39\\lib\\site-packages (1.4.49)\n",
            "Requirement already satisfied: numpy>=1.20.3 in c:\\users\\anand\\.conda\\envs\\gramex39\\lib\\site-packages (from pandas) (1.23.4)\n",
            "Requirement already satisfied: python-dateutil>=2.8.1 in c:\\users\\anand\\.conda\\envs\\gramex39\\lib\\site-packages (from pandas) (2.8.2)\n",
            "Requirement already satisfied: pytz>=2020.1 in c:\\users\\anand\\.conda\\envs\\gramex39\\lib\\site-packages (from pandas) (2022.7)\n",
            "Requirement already satisfied: greenlet!=0.4.17 in c:\\users\\anand\\.conda\\envs\\gramex39\\lib\\site-packages (from sqlalchemy) (2.0.0)\n",
            "Requirement already satisfied: six>=1.5 in c:\\users\\anand\\.conda\\envs\\gramex39\\lib\\site-packages (from python-dateutil>=2.8.1->pandas) (1.16.0)\n"
          ]
        }
      ],
      "source": [
        "!pip install duckdb pandas sqlalchemy sqlite3"
      ]
    },
    {
      "cell_type": "code",
      "execution_count": 2,
      "metadata": {
        "id": "iLbAJmUlCKLk"
      },
      "outputs": [],
      "source": [
        "# If this doesn't work, you can download the file manually from the link below\n",
        "!curl https://github.com/plotly/datasets/raw/master/2015_flights.parquet --output 2015_flights.parquet --location --continue-at - --silent"
      ]
    },
    {
      "cell_type": "code",
      "execution_count": 3,
      "metadata": {
        "colab": {
          "base_uri": "https://localhost:8080/"
        },
        "id": "Sv7ROrEZU9El",
        "outputId": "0c15fea7-b769-4657-8242-ca72f99e51b4"
      },
      "outputs": [
        {
          "data": {
            "text/html": [
              "<div>\n",
              "<style scoped>\n",
              "    .dataframe tbody tr th:only-of-type {\n",
              "        vertical-align: middle;\n",
              "    }\n",
              "\n",
              "    .dataframe tbody tr th {\n",
              "        vertical-align: top;\n",
              "    }\n",
              "\n",
              "    .dataframe thead th {\n",
              "        text-align: right;\n",
              "    }\n",
              "</style>\n",
              "<table border=\"1\" class=\"dataframe\">\n",
              "  <thead>\n",
              "    <tr style=\"text-align: right;\">\n",
              "      <th></th>\n",
              "      <th>DEPARTURE_DELAY</th>\n",
              "      <th>ARRIVAL_DELAY</th>\n",
              "      <th>DISTANCE</th>\n",
              "      <th>SCHEDULED_DEPARTURE</th>\n",
              "    </tr>\n",
              "  </thead>\n",
              "  <tbody>\n",
              "    <tr>\n",
              "      <th>0</th>\n",
              "      <td>-11.0</td>\n",
              "      <td>-22.0</td>\n",
              "      <td>1448</td>\n",
              "      <td>0.083333</td>\n",
              "    </tr>\n",
              "    <tr>\n",
              "      <th>1</th>\n",
              "      <td>-8.0</td>\n",
              "      <td>-9.0</td>\n",
              "      <td>2330</td>\n",
              "      <td>0.166667</td>\n",
              "    </tr>\n",
              "    <tr>\n",
              "      <th>2</th>\n",
              "      <td>-2.0</td>\n",
              "      <td>5.0</td>\n",
              "      <td>2296</td>\n",
              "      <td>0.333333</td>\n",
              "    </tr>\n",
              "    <tr>\n",
              "      <th>3</th>\n",
              "      <td>-5.0</td>\n",
              "      <td>-9.0</td>\n",
              "      <td>2342</td>\n",
              "      <td>0.333333</td>\n",
              "    </tr>\n",
              "    <tr>\n",
              "      <th>4</th>\n",
              "      <td>-1.0</td>\n",
              "      <td>-21.0</td>\n",
              "      <td>1448</td>\n",
              "      <td>0.416667</td>\n",
              "    </tr>\n",
              "  </tbody>\n",
              "</table>\n",
              "</div>"
            ],
            "text/plain": [
              "   DEPARTURE_DELAY  ARRIVAL_DELAY  DISTANCE  SCHEDULED_DEPARTURE\n",
              "0            -11.0          -22.0      1448             0.083333\n",
              "1             -8.0           -9.0      2330             0.166667\n",
              "2             -2.0            5.0      2296             0.333333\n",
              "3             -5.0           -9.0      2342             0.333333\n",
              "4             -1.0          -21.0      1448             0.416667"
            ]
          },
          "execution_count": 3,
          "metadata": {},
          "output_type": "execute_result"
        }
      ],
      "source": [
        "# Take a look at the first few rows of the dataset\n",
        "import pandas as pd\n",
        "\n",
        "df = pd.read_parquet('2015_flights.parquet')\n",
        "df.head()"
      ]
    },
    {
      "cell_type": "markdown",
      "metadata": {},
      "source": [
        "## Parquet is faster and smaller\n",
        "\n",
        "Let's save this in a few other formats and look at their speed and sizes"
      ]
    },
    {
      "cell_type": "code",
      "execution_count": 4,
      "metadata": {},
      "outputs": [
        {
          "name": "stdout",
          "output_type": "stream",
          "text": [
            "7.62 s ± 0 ns per loop (mean ± std. dev. of 1 run, 1 loop each)\n"
          ]
        }
      ],
      "source": [
        "%timeit -n 1 -r 1 df.to_csv('2015_flights.csv', index=False)"
      ]
    },
    {
      "cell_type": "code",
      "execution_count": 5,
      "metadata": {},
      "outputs": [
        {
          "name": "stdout",
          "output_type": "stream",
          "text": [
            "3.39 s ± 0 ns per loop (mean ± std. dev. of 1 run, 1 loop each)\n"
          ]
        }
      ],
      "source": [
        "%timeit -n 1 -r 1 df.to_json('2015_flights.json', orient='records')"
      ]
    },
    {
      "cell_type": "code",
      "execution_count": 6,
      "metadata": {},
      "outputs": [
        {
          "name": "stdout",
          "output_type": "stream",
          "text": [
            "15.3 s ± 0 ns per loop (mean ± std. dev. of 1 run, 1 loop each)\n"
          ]
        }
      ],
      "source": [
        "%timeit -n 1 -r 1 df.to_sql('2015_flights', 'sqlite:///2015_flights.db', index=False, if_exists='replace')"
      ]
    },
    {
      "cell_type": "code",
      "execution_count": 7,
      "metadata": {},
      "outputs": [
        {
          "name": "stdout",
          "output_type": "stream",
          "text": [
            "411 ms ± 0 ns per loop (mean ± std. dev. of 1 run, 1 loop each)\n"
          ]
        }
      ],
      "source": [
        "%timeit -n 1 -r 1 df.to_parquet('2015_flights.saved.parquet')"
      ]
    },
    {
      "cell_type": "code",
      "execution_count": 8,
      "metadata": {},
      "outputs": [
        {
          "name": "stdout",
          "output_type": "stream",
          "text": [
            "-rwxrwxr-x+ 1 Anand None 166305456 Mar 28 22:37 2015_flights.csv\n",
            "-rwxrwxr-x+ 1 Anand None 133074944 Mar 28 22:37 2015_flights.db\n",
            "-rwxrwxr-x+ 1 Anand None 545177083 Mar 28 22:37 2015_flights.json\n",
            "-rwxrwxr-x+ 1 Anand None  25238218 Mar 16 08:38 2015_flights.parquet\n",
            "-rwxrwxr-x+ 1 Anand None  25238340 Mar 28 22:37 2015_flights.saved.parquet\n"
          ]
        }
      ],
      "source": [
        "# If this command doesn't work, just look at the file size in this directory\n",
        "!ls -la 2015_flights.*"
      ]
    },
    {
      "cell_type": "markdown",
      "metadata": {},
      "source": [
        "# DuckDB is faster and takes less memory than Pandas\n",
        "\n",
        "This is because:\n",
        "\n",
        "1. DuckDB uses **parallel processing**. Pandas cannot.\n",
        "2. DuckDB uses **columnar storage**, which is efficient for analysis. Pandas uses row-based storage.\n",
        "3. DuckDB uses **on-disk operations**. Pandas loads everything into memory.\n",
        "\n",
        "Let's calculate the number of unique routes that were delayed by 1 hour, 2 hours, etc.\n",
        "\n",
        "This is a hard problem because\n",
        "\n",
        "1. There are several delay buckets (1, 2, 3, .. 1988)\n",
        "2. Unique count is a slow operation"
      ]
    },
    {
      "cell_type": "code",
      "execution_count": 9,
      "metadata": {},
      "outputs": [
        {
          "data": {
            "text/plain": [
              "DEPARTURE_DELAY\n",
              "1.0       1308\n",
              "2.0       1300\n",
              "3.0       1296\n",
              "4.0       1289\n",
              "5.0       1294\n",
              "          ... \n",
              "1631.0       1\n",
              "1649.0       1\n",
              "1670.0       1\n",
              "1878.0       1\n",
              "1988.0       1\n",
              "Name: DISTANCE, Length: 1162, dtype: int64"
            ]
          },
          "execution_count": 9,
          "metadata": {},
          "output_type": "execute_result"
        }
      ],
      "source": [
        "# This is the result we want to achieve\n",
        "delays = df.groupby('DEPARTURE_DELAY')['DISTANCE'].nunique()\n",
        "delays[delays.index > 0]"
      ]
    },
    {
      "cell_type": "code",
      "execution_count": 10,
      "metadata": {
        "id": "FUjxJKNMVPjl"
      },
      "outputs": [
        {
          "name": "stdout",
          "output_type": "stream",
          "text": [
            "5.4 s ± 304 ms per loop (mean ± std. dev. of 7 runs, 1 loop each)\n"
          ]
        }
      ],
      "source": [
        "# This takes ~5 seconds in Pandas\n",
        "%timeit df.groupby('DEPARTURE_DELAY')['DISTANCE'].nunique()"
      ]
    },
    {
      "cell_type": "code",
      "execution_count": 11,
      "metadata": {
        "colab": {
          "base_uri": "https://localhost:8080/"
        },
        "id": "ENRhkq-lXFyp",
        "outputId": "28f3d0d8-c259-4624-943e-3c680d328fdc"
      },
      "outputs": [
        {
          "data": {
            "text/html": [
              "<div>\n",
              "<style scoped>\n",
              "    .dataframe tbody tr th:only-of-type {\n",
              "        vertical-align: middle;\n",
              "    }\n",
              "\n",
              "    .dataframe tbody tr th {\n",
              "        vertical-align: top;\n",
              "    }\n",
              "\n",
              "    .dataframe thead th {\n",
              "        text-align: right;\n",
              "    }\n",
              "</style>\n",
              "<table border=\"1\" class=\"dataframe\">\n",
              "  <thead>\n",
              "    <tr style=\"text-align: right;\">\n",
              "      <th></th>\n",
              "      <th>DEPARTURE_DELAY</th>\n",
              "      <th>count(DISTINCT DISTANCE)</th>\n",
              "    </tr>\n",
              "  </thead>\n",
              "  <tbody>\n",
              "    <tr>\n",
              "      <th>55</th>\n",
              "      <td>1.0</td>\n",
              "      <td>1308</td>\n",
              "    </tr>\n",
              "    <tr>\n",
              "      <th>56</th>\n",
              "      <td>2.0</td>\n",
              "      <td>1300</td>\n",
              "    </tr>\n",
              "    <tr>\n",
              "      <th>57</th>\n",
              "      <td>3.0</td>\n",
              "      <td>1296</td>\n",
              "    </tr>\n",
              "    <tr>\n",
              "      <th>58</th>\n",
              "      <td>4.0</td>\n",
              "      <td>1289</td>\n",
              "    </tr>\n",
              "    <tr>\n",
              "      <th>59</th>\n",
              "      <td>5.0</td>\n",
              "      <td>1294</td>\n",
              "    </tr>\n",
              "    <tr>\n",
              "      <th>...</th>\n",
              "      <td>...</td>\n",
              "      <td>...</td>\n",
              "    </tr>\n",
              "    <tr>\n",
              "      <th>1212</th>\n",
              "      <td>1631.0</td>\n",
              "      <td>1</td>\n",
              "    </tr>\n",
              "    <tr>\n",
              "      <th>1213</th>\n",
              "      <td>1649.0</td>\n",
              "      <td>1</td>\n",
              "    </tr>\n",
              "    <tr>\n",
              "      <th>1214</th>\n",
              "      <td>1670.0</td>\n",
              "      <td>1</td>\n",
              "    </tr>\n",
              "    <tr>\n",
              "      <th>1215</th>\n",
              "      <td>1878.0</td>\n",
              "      <td>1</td>\n",
              "    </tr>\n",
              "    <tr>\n",
              "      <th>1216</th>\n",
              "      <td>1988.0</td>\n",
              "      <td>1</td>\n",
              "    </tr>\n",
              "  </tbody>\n",
              "</table>\n",
              "<p>1162 rows × 2 columns</p>\n",
              "</div>"
            ],
            "text/plain": [
              "      DEPARTURE_DELAY  count(DISTINCT DISTANCE)\n",
              "55                1.0                      1308\n",
              "56                2.0                      1300\n",
              "57                3.0                      1296\n",
              "58                4.0                      1289\n",
              "59                5.0                      1294\n",
              "...               ...                       ...\n",
              "1212           1631.0                         1\n",
              "1213           1649.0                         1\n",
              "1214           1670.0                         1\n",
              "1215           1878.0                         1\n",
              "1216           1988.0                         1\n",
              "\n",
              "[1162 rows x 2 columns]"
            ]
          },
          "execution_count": 11,
          "metadata": {},
          "output_type": "execute_result"
        }
      ],
      "source": [
        "# Let's do the same thing with DuckDB\n",
        "import duckdb\n",
        "\n",
        "delays = duckdb.query('''SELECT DEPARTURE_DELAY, COUNT(DISTINCT DISTANCE) FROM \"2015_flights.parquet\" GROUP BY DEPARTURE_DELAY ORDER BY DEPARTURE_DELAY''').df()\n",
        "delays[delays['DEPARTURE_DELAY'] > 0]"
      ]
    },
    {
      "cell_type": "code",
      "execution_count": 12,
      "metadata": {},
      "outputs": [
        {
          "name": "stdout",
          "output_type": "stream",
          "text": [
            "160 ms ± 7.49 ms per loop (mean ± std. dev. of 7 runs, 10 loops each)\n"
          ]
        }
      ],
      "source": [
        "# This takes under 200ms in DuckDB\n",
        "%timeit duckdb.sql('''SELECT DEPARTURE_DELAY, COUNT(DISTINCT DISTANCE) FROM \"2015_flights.parquet\" GROUP BY DEPARTURE_DELAY ORDER BY DEPARTURE_DELAY''').df()"
      ]
    },
    {
      "cell_type": "markdown",
      "metadata": {},
      "source": [
        "The entire process runs on disk, not in memory."
      ]
    },
    {
      "cell_type": "code",
      "execution_count": 13,
      "metadata": {},
      "outputs": [
        {
          "name": "stdout",
          "output_type": "stream",
          "text": [
            "[('memory', '0 bytes', 0, 0, 0, 0, '0 bytes', '0 bytes', '50.0 GiB')]\n"
          ]
        }
      ],
      "source": [
        "conn = duckdb.connect(database=':memory:', read_only=False)\n",
        "delays = conn.execute('SELECT DEPARTURE_DELAY, COUNT(DISTINCT DISTANCE) FROM \"2015_flights.parquet\" GROUP BY DEPARTURE_DELAY ORDER BY DEPARTURE_DELAY').df()\n",
        "print(conn.execute(\"PRAGMA database_size\").fetchall())"
      ]
    },
    {
      "cell_type": "markdown",
      "metadata": {},
      "source": [
        "# You can mix it up with Pandas\n",
        "\n",
        "DuckDB can also directly query Pandas DataFrames. You can use it as a replacement for any specific slow Pandas operation."
      ]
    },
    {
      "cell_type": "code",
      "execution_count": 14,
      "metadata": {},
      "outputs": [],
      "source": [
        "df = pd.read_parquet('2015_flights.parquet')\n",
        "delays = duckdb.sql('SELECT DEPARTURE_DELAY, COUNT(DISTINCT DISTANCE) FROM df GROUP BY DEPARTURE_DELAY ORDER BY DEPARTURE_DELAY').df()"
      ]
    },
    {
      "cell_type": "code",
      "execution_count": 15,
      "metadata": {},
      "outputs": [
        {
          "name": "stdout",
          "output_type": "stream",
          "text": [
            "25.9 ms ± 2.06 ms per loop (mean ± std. dev. of 7 runs, 10 loops each)\n"
          ]
        }
      ],
      "source": [
        "# This takes ~25ms -- 20x faster than Pandas\n",
        "%timeit delays = duckdb.sql('''SELECT DEPARTURE_DELAY, COUNT(DISTINCT DISTANCE) FROM df GROUP BY DEPARTURE_DELAY ORDER BY DEPARTURE_DELAY''').df()"
      ]
    },
    {
      "cell_type": "code",
      "execution_count": 16,
      "metadata": {},
      "outputs": [
        {
          "data": {
            "text/html": [
              "<div>\n",
              "<style scoped>\n",
              "    .dataframe tbody tr th:only-of-type {\n",
              "        vertical-align: middle;\n",
              "    }\n",
              "\n",
              "    .dataframe tbody tr th {\n",
              "        vertical-align: top;\n",
              "    }\n",
              "\n",
              "    .dataframe thead th {\n",
              "        text-align: right;\n",
              "    }\n",
              "</style>\n",
              "<table border=\"1\" class=\"dataframe\">\n",
              "  <thead>\n",
              "    <tr style=\"text-align: right;\">\n",
              "      <th></th>\n",
              "      <th>Avg_Correlation</th>\n",
              "    </tr>\n",
              "  </thead>\n",
              "  <tbody>\n",
              "    <tr>\n",
              "      <th>0</th>\n",
              "      <td>0.936172</td>\n",
              "    </tr>\n",
              "  </tbody>\n",
              "</table>\n",
              "</div>"
            ],
            "text/plain": [
              "   Avg_Correlation\n",
              "0         0.936172"
            ]
          },
          "execution_count": 16,
          "metadata": {},
          "output_type": "execute_result"
        }
      ],
      "source": [
        "# You can interleave Pandas and DuckDB operations\n",
        "\n",
        "# Step 1: Segment Flights into Short, Medium, Long\n",
        "distance_segmented_delays = duckdb.query(\"\"\"\n",
        "SELECT\n",
        "  CASE\n",
        "    WHEN DISTANCE < 1000 THEN 'Short'\n",
        "    WHEN DISTANCE >= 1000 AND DISTANCE < 2000 THEN 'Medium'\n",
        "    ELSE 'Long'\n",
        "  END AS Distance_Category,\n",
        "  DEPARTURE_DELAY,\n",
        "  ARRIVAL_DELAY\n",
        "FROM df\n",
        "\"\"\").to_df()\n",
        "\n",
        "# Step 2: Correlate between Departure and Arrival Delays\n",
        "correlations = (\n",
        "    distance_segmented_delays.groupby('Distance_Category')\n",
        "    .apply(lambda x: x[['DEPARTURE_DELAY', 'ARRIVAL_DELAY']].corr().iloc[0, 1])\n",
        "    .reset_index(name='Correlation')\n",
        ")\n",
        "\n",
        "# Step 3: Calculate Average Correlation\n",
        "duckdb.query(\"SELECT AVG(Correlation) AS Avg_Correlation FROM correlations\").to_df()"
      ]
    },
    {
      "cell_type": "markdown",
      "metadata": {},
      "source": [
        "# Exercise\n",
        "\n",
        "Write the following queries in both Pandas as well as DuckDB. Note the performance of both.\n",
        "\n",
        "**Exercise 1**: Rank the `ARRIVAL_DELAY` for each `DISTANCE`. (Prioritize rows with lower `DEPARTURE_DELAY` in case of ties.) Get rows with rank 1. (You should get ~13xx rows)\n",
        "\n",
        "**Exercise 2**: (This is independent of Exercise 1.) Run the code below to create `cost.parquet`. This shows the cost of each arrival delay or departure delay. Calculate the total cost of delays in `2015_flights.parquet` (You should get ~600 mn)"
      ]
    },
    {
      "cell_type": "code",
      "execution_count": 17,
      "metadata": {},
      "outputs": [
        {
          "data": {
            "text/html": [
              "<div>\n",
              "<style scoped>\n",
              "    .dataframe tbody tr th:only-of-type {\n",
              "        vertical-align: middle;\n",
              "    }\n",
              "\n",
              "    .dataframe tbody tr th {\n",
              "        vertical-align: top;\n",
              "    }\n",
              "\n",
              "    .dataframe thead th {\n",
              "        text-align: right;\n",
              "    }\n",
              "</style>\n",
              "<table border=\"1\" class=\"dataframe\">\n",
              "  <thead>\n",
              "    <tr style=\"text-align: right;\">\n",
              "      <th></th>\n",
              "      <th>type</th>\n",
              "      <th>delay</th>\n",
              "      <th>cost</th>\n",
              "    </tr>\n",
              "  </thead>\n",
              "  <tbody>\n",
              "    <tr>\n",
              "      <th>0</th>\n",
              "      <td>ARRIVAL_DELAY</td>\n",
              "      <td>-22.0</td>\n",
              "      <td>44</td>\n",
              "    </tr>\n",
              "    <tr>\n",
              "      <th>1</th>\n",
              "      <td>ARRIVAL_DELAY</td>\n",
              "      <td>-9.0</td>\n",
              "      <td>47</td>\n",
              "    </tr>\n",
              "    <tr>\n",
              "      <th>2</th>\n",
              "      <td>ARRIVAL_DELAY</td>\n",
              "      <td>5.0</td>\n",
              "      <td>64</td>\n",
              "    </tr>\n",
              "    <tr>\n",
              "      <th>3</th>\n",
              "      <td>ARRIVAL_DELAY</td>\n",
              "      <td>-21.0</td>\n",
              "      <td>67</td>\n",
              "    </tr>\n",
              "    <tr>\n",
              "      <th>4</th>\n",
              "      <td>ARRIVAL_DELAY</td>\n",
              "      <td>8.0</td>\n",
              "      <td>67</td>\n",
              "    </tr>\n",
              "    <tr>\n",
              "      <th>...</th>\n",
              "      <td>...</td>\n",
              "      <td>...</td>\n",
              "      <td>...</td>\n",
              "    </tr>\n",
              "    <tr>\n",
              "      <th>2454</th>\n",
              "      <td>DEPARTURE_DELAY</td>\n",
              "      <td>999.0</td>\n",
              "      <td>38</td>\n",
              "    </tr>\n",
              "    <tr>\n",
              "      <th>2455</th>\n",
              "      <td>DEPARTURE_DELAY</td>\n",
              "      <td>1378.0</td>\n",
              "      <td>68</td>\n",
              "    </tr>\n",
              "    <tr>\n",
              "      <th>2456</th>\n",
              "      <td>DEPARTURE_DELAY</td>\n",
              "      <td>888.0</td>\n",
              "      <td>39</td>\n",
              "    </tr>\n",
              "    <tr>\n",
              "      <th>2457</th>\n",
              "      <td>DEPARTURE_DELAY</td>\n",
              "      <td>1194.0</td>\n",
              "      <td>79</td>\n",
              "    </tr>\n",
              "    <tr>\n",
              "      <th>2458</th>\n",
              "      <td>DEPARTURE_DELAY</td>\n",
              "      <td>1649.0</td>\n",
              "      <td>13</td>\n",
              "    </tr>\n",
              "  </tbody>\n",
              "</table>\n",
              "<p>2459 rows × 3 columns</p>\n",
              "</div>"
            ],
            "text/plain": [
              "                 type   delay  cost\n",
              "0       ARRIVAL_DELAY   -22.0    44\n",
              "1       ARRIVAL_DELAY    -9.0    47\n",
              "2       ARRIVAL_DELAY     5.0    64\n",
              "3       ARRIVAL_DELAY   -21.0    67\n",
              "4       ARRIVAL_DELAY     8.0    67\n",
              "...               ...     ...   ...\n",
              "2454  DEPARTURE_DELAY   999.0    38\n",
              "2455  DEPARTURE_DELAY  1378.0    68\n",
              "2456  DEPARTURE_DELAY   888.0    39\n",
              "2457  DEPARTURE_DELAY  1194.0    79\n",
              "2458  DEPARTURE_DELAY  1649.0    13\n",
              "\n",
              "[2459 rows x 3 columns]"
            ]
          },
          "execution_count": 17,
          "metadata": {},
          "output_type": "execute_result"
        }
      ],
      "source": [
        "# Code to create `cost.parquet`\n",
        "\n",
        "import numpy as np\n",
        "\n",
        "np.random.seed(0)\n",
        "arrival_delays, departure_delays = df['ARRIVAL_DELAY'].unique(), df['DEPARTURE_DELAY'].unique()\n",
        "cost = pd.DataFrame({\n",
        "  'type': ['ARRIVAL_DELAY'] * len(arrival_delays) + ['DEPARTURE_DELAY'] * len(departure_delays),\n",
        "  'delay': np.concatenate([arrival_delays, departure_delays]),\n",
        "  'cost': np.random.randint(0, 100, len(arrival_delays) + len(departure_delays))\n",
        "})\n",
        "cost.to_parquet('cost.parquet')\n",
        "cost"
      ]
    }
  ],
  "metadata": {
    "colab": {
      "provenance": []
    },
    "kernelspec": {
      "display_name": "Python 3",
      "name": "python3"
    },
    "language_info": {
      "codemirror_mode": {
        "name": "ipython",
        "version": 3
      },
      "file_extension": ".py",
      "mimetype": "text/x-python",
      "name": "python",
      "nbconvert_exporter": "python",
      "pygments_lexer": "ipython3",
      "version": "3.11.4"
    }
  },
  "nbformat": 4,
  "nbformat_minor": 0
}
